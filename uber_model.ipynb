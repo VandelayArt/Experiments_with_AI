{
 "cells": [
  {
   "cell_type": "code",
   "execution_count": 1,
   "metadata": {},
   "outputs": [],
   "source": [
    "import pandas as pd\n",
    "import numpy as np\n",
    "import tensorflow as tf\n",
    "from tensorflow.keras import layers, callbacks\n",
    "\n",
    "# Define the function to generate the next number\n",
    "def generate_next_number(model, seed_sequence, generated_sequence):\n",
    "    next_number = np.argmax(model.predict(seed_sequence.reshape(1, 6, 1))[0])\n",
    "    while next_number + 1 in generated_sequence:\n",
    "        next_number = np.argmax(model.predict(seed_sequence.reshape(1, 6, 1))[0])\n",
    "    return next_number\n",
    "\n",
    "# Load the dataset\n",
    "df = pd.read_excel('Lotto_sequence.xlsx')\n",
    "data = df.values.astype(np.int32)"
   ]
  },
  {
   "cell_type": "code",
   "execution_count": 2,
   "metadata": {},
   "outputs": [],
   "source": [
    "# Prepare the input and output data\n",
    "X = data[:, :-1]\n",
    "Y = data[:, -1]\n",
    "\n",
    "# Normalize the input data\n",
    "X_norm = X / 45.0\n",
    "\n",
    "# Reshape the input data\n",
    "X_reshaped = X_norm.reshape((X_norm.shape[0], X_norm.shape[1], 1))\n",
    "\n",
    "# Convert the output data to one-hot encoding\n",
    "Y_onehot = tf.keras.utils.to_categorical(Y, num_classes=46)"
   ]
  },
  {
   "cell_type": "code",
   "execution_count": null,
   "metadata": {},
   "outputs": [],
   "source": [
    "\n",
    "# Define the model\n",
    "model = tf.keras.Sequential([\n",
    "    layers.LSTM(128, input_shape=(X_reshaped.shape[1], X_reshaped.shape[2])),\n",
    "    layers.Dense(46, activation='softmax'),\n",
    "    layers.Dense(46, activation='softmax')\n",
    "])\n",
    "\n",
    "# Compile the model\n",
    "model.compile(optimizer='adam', loss='categorical_crossentropy')\n",
    "\n",
    "# Train the model\n",
    "model.fit(X_reshaped, Y_onehot, epochs=100, batch_size=32)\n"
   ]
  },
  {
   "cell_type": "code",
   "execution_count": null,
   "metadata": {},
   "outputs": [],
   "source": [
    "# Save the model\n",
    "model.save('new_lotto_model.h5')\n"
   ]
  },
  {
   "cell_type": "code",
   "execution_count": 3,
   "metadata": {},
   "outputs": [],
   "source": [
    "# Load the trained model\n",
    "model = tf.keras.models.load_model(\"new_lotto_model.h5\")\n"
   ]
  },
  {
   "cell_type": "code",
   "execution_count": 6,
   "metadata": {},
   "outputs": [],
   "source": [
    "# Generate 10 winning sequences\n",
    "generated_sequences = []\n",
    "\n",
    "for i in range(10):\n",
    "    seed_sequence = X[np.random.choice(len(X))]\n",
    "    generated_sequence = list(seed_sequence)\n",
    "\n",
    "    for j in range(6):\n",
    "        next_number = np.argmax(model.predict(seed_sequence.reshape(1, 6, 1))[0])\n",
    "        while True:\n",
    "            if next_number + 1 not in generated_sequence and len(generated_sequence) < 7:\n",
    "                generated_sequence.append(next_number + 1)\n",
    "                seed_sequence = np.append(seed_sequence[1:], [next_number])\n",
    "                break\n",
    "            else:\n",
    "                next_number = np.argmax(model.predict(seed_sequence.reshape(1, 6, 1))[0])\n",
    "\n",
    "        if len(generated_sequence) == 7:\n",
    "            break\n",
    "\n",
    "    # Generate the bonus number\n",
    "    bonus_number = np.random.randint(1, 46)\n",
    "    while bonus_number in generated_sequence:\n",
    "        bonus_number = np.random.randint(1, 46)\n",
    "    generated_sequence.append(bonus_number)\n",
    "\n",
    "    # Add the generated sequence to the list\n",
    "    generated_sequences.append(generated_sequence)\n",
    "\n",
    "\n",
    "# Print the generated sequences\n",
    "for i, sequence in enumerate(generated_sequences):\n",
    "    print(f'Sequence {i+1}: {sequence}')\n"
   ]
  }
 ],
 "metadata": {
  "kernelspec": {
   "display_name": "aienv",
   "language": "python",
   "name": "python3"
  },
  "language_info": {
   "name": "python",
   "version": "3.7.9"
  },
  "orig_nbformat": 4
 },
 "nbformat": 4,
 "nbformat_minor": 2
}
