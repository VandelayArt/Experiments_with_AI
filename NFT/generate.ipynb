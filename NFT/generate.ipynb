{
 "cells": [
  {
   "cell_type": "markdown",
   "metadata": {},
   "source": [
    "<h2>\n",
    "    Generating NFTs Using Python\n",
    "</h2>"
   ]
  },
  {
   "cell_type": "code",
   "execution_count": 1,
   "metadata": {},
   "outputs": [],
   "source": [
    "import random\n",
    "import json\n",
    "import os\n",
    "from PIL import Image \n",
    "from itertools import product"
   ]
  },
  {
   "cell_type": "code",
   "execution_count": 19,
   "metadata": {},
   "outputs": [],
   "source": [
    "folder='layers'\n",
    "project='bears'\n",
    "count=250\n",
    "layers_names=['backgrounds', 'bears', 'accessoires']"
   ]
  },
  {
   "cell_type": "code",
   "execution_count": 20,
   "metadata": {},
   "outputs": [],
   "source": [
    "combinations = list(product(*[os.listdir(f'{folder}/{x}') for x in os.listdir(folder)]))"
   ]
  },
  {
   "cell_type": "code",
   "execution_count": 4,
   "metadata": {},
   "outputs": [
    {
     "name": "stdout",
     "output_type": "stream",
     "text": [
      "[('1.png', '1.png', '1.png'), ('1.png', '1.png', '2.png'), ('1.png', '1.png', '3.png'), ('1.png', '1.png', '4.png'), ('1.png', '1.png', '5.png'), ('1.png', '2.png', '1.png'), ('1.png', '2.png', '2.png'), ('1.png', '2.png', '3.png'), ('1.png', '2.png', '4.png'), ('1.png', '2.png', '5.png'), ('1.png', '3.png', '1.png'), ('1.png', '3.png', '2.png'), ('1.png', '3.png', '3.png'), ('1.png', '3.png', '4.png'), ('1.png', '3.png', '5.png'), ('1.png', '4.png', '1.png'), ('1.png', '4.png', '2.png'), ('1.png', '4.png', '3.png'), ('1.png', '4.png', '4.png'), ('1.png', '4.png', '5.png'), ('1.png', '5.png', '1.png'), ('1.png', '5.png', '2.png'), ('1.png', '5.png', '3.png'), ('1.png', '5.png', '4.png'), ('1.png', '5.png', '5.png'), ('1.png', '6.png', '1.png'), ('1.png', '6.png', '2.png'), ('1.png', '6.png', '3.png'), ('1.png', '6.png', '4.png'), ('1.png', '6.png', '5.png'), ('1.png', '7.png', '1.png'), ('1.png', '7.png', '2.png'), ('1.png', '7.png', '3.png'), ('1.png', '7.png', '4.png'), ('1.png', '7.png', '5.png'), ('2.png', '1.png', '1.png'), ('2.png', '1.png', '2.png'), ('2.png', '1.png', '3.png'), ('2.png', '1.png', '4.png'), ('2.png', '1.png', '5.png'), ('2.png', '2.png', '1.png'), ('2.png', '2.png', '2.png'), ('2.png', '2.png', '3.png'), ('2.png', '2.png', '4.png'), ('2.png', '2.png', '5.png'), ('2.png', '3.png', '1.png'), ('2.png', '3.png', '2.png'), ('2.png', '3.png', '3.png'), ('2.png', '3.png', '4.png'), ('2.png', '3.png', '5.png'), ('2.png', '4.png', '1.png'), ('2.png', '4.png', '2.png'), ('2.png', '4.png', '3.png'), ('2.png', '4.png', '4.png'), ('2.png', '4.png', '5.png'), ('2.png', '5.png', '1.png'), ('2.png', '5.png', '2.png'), ('2.png', '5.png', '3.png'), ('2.png', '5.png', '4.png'), ('2.png', '5.png', '5.png'), ('2.png', '6.png', '1.png'), ('2.png', '6.png', '2.png'), ('2.png', '6.png', '3.png'), ('2.png', '6.png', '4.png'), ('2.png', '6.png', '5.png'), ('2.png', '7.png', '1.png'), ('2.png', '7.png', '2.png'), ('2.png', '7.png', '3.png'), ('2.png', '7.png', '4.png'), ('2.png', '7.png', '5.png'), ('3.png', '1.png', '1.png'), ('3.png', '1.png', '2.png'), ('3.png', '1.png', '3.png'), ('3.png', '1.png', '4.png'), ('3.png', '1.png', '5.png'), ('3.png', '2.png', '1.png'), ('3.png', '2.png', '2.png'), ('3.png', '2.png', '3.png'), ('3.png', '2.png', '4.png'), ('3.png', '2.png', '5.png'), ('3.png', '3.png', '1.png'), ('3.png', '3.png', '2.png'), ('3.png', '3.png', '3.png'), ('3.png', '3.png', '4.png'), ('3.png', '3.png', '5.png'), ('3.png', '4.png', '1.png'), ('3.png', '4.png', '2.png'), ('3.png', '4.png', '3.png'), ('3.png', '4.png', '4.png'), ('3.png', '4.png', '5.png'), ('3.png', '5.png', '1.png'), ('3.png', '5.png', '2.png'), ('3.png', '5.png', '3.png'), ('3.png', '5.png', '4.png'), ('3.png', '5.png', '5.png'), ('3.png', '6.png', '1.png'), ('3.png', '6.png', '2.png'), ('3.png', '6.png', '3.png'), ('3.png', '6.png', '4.png'), ('3.png', '6.png', '5.png'), ('3.png', '7.png', '1.png'), ('3.png', '7.png', '2.png'), ('3.png', '7.png', '3.png'), ('3.png', '7.png', '4.png'), ('3.png', '7.png', '5.png'), ('4.png', '1.png', '1.png'), ('4.png', '1.png', '2.png'), ('4.png', '1.png', '3.png'), ('4.png', '1.png', '4.png'), ('4.png', '1.png', '5.png'), ('4.png', '2.png', '1.png'), ('4.png', '2.png', '2.png'), ('4.png', '2.png', '3.png'), ('4.png', '2.png', '4.png'), ('4.png', '2.png', '5.png'), ('4.png', '3.png', '1.png'), ('4.png', '3.png', '2.png'), ('4.png', '3.png', '3.png'), ('4.png', '3.png', '4.png'), ('4.png', '3.png', '5.png'), ('4.png', '4.png', '1.png'), ('4.png', '4.png', '2.png'), ('4.png', '4.png', '3.png'), ('4.png', '4.png', '4.png'), ('4.png', '4.png', '5.png'), ('4.png', '5.png', '1.png'), ('4.png', '5.png', '2.png'), ('4.png', '5.png', '3.png'), ('4.png', '5.png', '4.png'), ('4.png', '5.png', '5.png'), ('4.png', '6.png', '1.png'), ('4.png', '6.png', '2.png'), ('4.png', '6.png', '3.png'), ('4.png', '6.png', '4.png'), ('4.png', '6.png', '5.png'), ('4.png', '7.png', '1.png'), ('4.png', '7.png', '2.png'), ('4.png', '7.png', '3.png'), ('4.png', '7.png', '4.png'), ('4.png', '7.png', '5.png'), ('5.png', '1.png', '1.png'), ('5.png', '1.png', '2.png'), ('5.png', '1.png', '3.png'), ('5.png', '1.png', '4.png'), ('5.png', '1.png', '5.png'), ('5.png', '2.png', '1.png'), ('5.png', '2.png', '2.png'), ('5.png', '2.png', '3.png'), ('5.png', '2.png', '4.png'), ('5.png', '2.png', '5.png'), ('5.png', '3.png', '1.png'), ('5.png', '3.png', '2.png'), ('5.png', '3.png', '3.png'), ('5.png', '3.png', '4.png'), ('5.png', '3.png', '5.png'), ('5.png', '4.png', '1.png'), ('5.png', '4.png', '2.png'), ('5.png', '4.png', '3.png'), ('5.png', '4.png', '4.png'), ('5.png', '4.png', '5.png'), ('5.png', '5.png', '1.png'), ('5.png', '5.png', '2.png'), ('5.png', '5.png', '3.png'), ('5.png', '5.png', '4.png'), ('5.png', '5.png', '5.png'), ('5.png', '6.png', '1.png'), ('5.png', '6.png', '2.png'), ('5.png', '6.png', '3.png'), ('5.png', '6.png', '4.png'), ('5.png', '6.png', '5.png'), ('5.png', '7.png', '1.png'), ('5.png', '7.png', '2.png'), ('5.png', '7.png', '3.png'), ('5.png', '7.png', '4.png'), ('5.png', '7.png', '5.png'), ('6.png', '1.png', '1.png'), ('6.png', '1.png', '2.png'), ('6.png', '1.png', '3.png'), ('6.png', '1.png', '4.png'), ('6.png', '1.png', '5.png'), ('6.png', '2.png', '1.png'), ('6.png', '2.png', '2.png'), ('6.png', '2.png', '3.png'), ('6.png', '2.png', '4.png'), ('6.png', '2.png', '5.png'), ('6.png', '3.png', '1.png'), ('6.png', '3.png', '2.png'), ('6.png', '3.png', '3.png'), ('6.png', '3.png', '4.png'), ('6.png', '3.png', '5.png'), ('6.png', '4.png', '1.png'), ('6.png', '4.png', '2.png'), ('6.png', '4.png', '3.png'), ('6.png', '4.png', '4.png'), ('6.png', '4.png', '5.png'), ('6.png', '5.png', '1.png'), ('6.png', '5.png', '2.png'), ('6.png', '5.png', '3.png'), ('6.png', '5.png', '4.png'), ('6.png', '5.png', '5.png'), ('6.png', '6.png', '1.png'), ('6.png', '6.png', '2.png'), ('6.png', '6.png', '3.png'), ('6.png', '6.png', '4.png'), ('6.png', '6.png', '5.png'), ('6.png', '7.png', '1.png'), ('6.png', '7.png', '2.png'), ('6.png', '7.png', '3.png'), ('6.png', '7.png', '4.png'), ('6.png', '7.png', '5.png')]\n"
     ]
    }
   ],
   "source": [
    "print(combinations)"
   ]
  },
  {
   "cell_type": "code",
   "execution_count": 21,
   "metadata": {},
   "outputs": [
    {
     "name": "stdout",
     "output_type": "stream",
     "text": [
      "175\n"
     ]
    }
   ],
   "source": [
    "print(len(combinations))"
   ]
  },
  {
   "cell_type": "code",
   "execution_count": 22,
   "metadata": {},
   "outputs": [],
   "source": [
    "random.shuffle(combinations)"
   ]
  },
  {
   "cell_type": "code",
   "execution_count": 23,
   "metadata": {},
   "outputs": [],
   "source": [
    "c=0\n",
    "metadata={}\n",
    "\n",
    "for combination in combinations:\n",
    "    if c != count:\n",
    "        if len(combination)>2:\n",
    "            comp = Image.alpha_composite(Image.open(f'{folder}/backgrounds/{combination[1]}').convert('RGBA'),\n",
    "                                         Image.open(f'{folder}/bears/{combination[2]}').convert('RGBA'))\n",
    "            n=3\n",
    "            for item in combination[2:]:\n",
    "                if combination.index(item)!=-1:\n",
    "                    comp = Image.alpha_composite(comp,\n",
    "                                         Image.open(f'{folder}/accessoires/{item}').convert('RGBA'))\n",
    "                    n+=1\n",
    "        rgb_im = comp.convert('RGB')\n",
    "        file_name = str(combinations.index(combination)) + \".png\"\n",
    "        rgb_im.save(\"./images/\" + file_name)\n",
    "        metadata['tokenId']=str(combinations.index(combination))\n",
    "        metadata['name']=project+' '+str(combinations.index(combination))\n",
    "        metadata['attributes']=[]\n",
    "        for item in layers_names:\n",
    "            metadata['attributes'].append({item:combination[layers_names.index(item)][:-4]})\n",
    "        with open(f\"./metadata/{str(combinations.index(combination))}.json\", \"w\") as outfile:\n",
    "            json.dump(metadata, outfile, indent=4)\n",
    "        c+=1\n",
    "    else:\n",
    "        break"
   ]
  },
  {
   "cell_type": "code",
   "execution_count": null,
   "metadata": {},
   "outputs": [],
   "source": []
  }
 ],
 "metadata": {
  "interpreter": {
   "hash": "2d931fccb3ce6cc727dcc2040de0c5260a27f4b0b30c2521ae495cd77459bff7"
  },
  "kernelspec": {
   "display_name": "Python 3.7.9 64-bit ('aienv': venv)",
   "language": "python",
   "name": "python3"
  },
  "language_info": {
   "codemirror_mode": {
    "name": "ipython",
    "version": 3
   },
   "file_extension": ".py",
   "mimetype": "text/x-python",
   "name": "python",
   "nbconvert_exporter": "python",
   "pygments_lexer": "ipython3",
   "version": "3.7.9"
  },
  "orig_nbformat": 4
 },
 "nbformat": 4,
 "nbformat_minor": 2
}
