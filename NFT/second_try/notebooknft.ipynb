{
 "cells": [
  {
   "cell_type": "markdown",
   "metadata": {},
   "source": [
    "<h2>\n",
    "Generating NFTS using weighted rarities\n",
    "</h2>"
   ]
  },
  {
   "cell_type": "markdown",
   "metadata": {},
   "source": [
    "<h5>Import Necessary Libraries</h5>\n",
    "<p>\n",
    "<strong>Pillow </strong><em>to handle the image files</em>\n",
    "<br>\n",
    "<strong>json  </strong><em>to store and export the created images' metadata</em>\n",
    "<br>\n",
    "<strong>random  </strong><em>to combine the layers in a random order\n",
    "<br>\n",
    "<strong>os  </strong><em>to create and read files/directories\n",
    "</p>"
   ]
  },
  {
   "cell_type": "code",
   "execution_count": 1,
   "metadata": {},
   "outputs": [],
   "source": [
    "\n",
    "from PIL import Image \n",
    "from IPython.display import display \n",
    "import random\n",
    "import json\n",
    "import os"
   ]
  },
  {
   "cell_type": "markdown",
   "metadata": {},
   "source": [
    "<h5>\n",
    "Defining the Image Traits\n",
    "</h5>\n",
    "<p>\n",
    "<strong>Firstly, </strong>we name all the layers we will incorporate in the generated image\n",
    "<br>\n",
    "<strong>Secondly, </strong>We define the level of rareness of each usable layer. All the numbers should add up to 100%\n",
    "<br>\n",
    "Some traits are not required, I have therefore added Blank Layers to add when the trait is not desired, generating even more rare combinations\n",
    "\n",
    "</p>\n"
   ]
  },
  {
   "cell_type": "code",
   "execution_count": 2,
   "metadata": {},
   "outputs": [],
   "source": [
    "# Each image is made up a series of traits\n",
    "\n",
    "background = [\n",
    "    \"Rainbow Spiral\", \"African Rasta\", \"The Rabbit Hole\",\n",
    "    \"Sunshine DayDream\", \"Black Tie Dye\", \"Pink Tie Dye\",\n",
    "    \"Peace Out\", \"Trippy Carpet\", \"Bear Spiral\",\n",
    "    \"Grateful Skull Tie Dye\", \"Scarlet Begonias\", \"Dark Rasta Bear Spiral\",\n",
    "]\n",
    "background_weights = [5, 16, 15, 14, 5, 5, 15, 5, 5, 5, 5, 5,]\n",
    "\n",
    "bears = [\n",
    "    \"Green and Yellow\", \"Purple and Yellow\", \"Orange and Green\", \"Pink and Purple\",\n",
    "    \"Yellow and Green\", \"Pink Tie Dye and White\", \"Blue and Yellow\", \"Pink Tie Dye and Gold\",\n",
    "    \"Rasta Tie Dye\", \"Black Tie Dye and Purple\", \"Fully Black Tie Dye\"\n",
    "]\n",
    "bears_weights = [12, 12, 12, 12, 12, 5, 5, 5, 5, 5, 5,]\n",
    "\n",
    "eyes = [\"No Eye Decoration\", \"Rayban\", \"Cyclops\", \"Bootsy\", \"Groovy\"]\n",
    "eyes_weights = [35, 25, 5, 5, 25,]\n",
    "\n",
    "hair = [\n",
    "    \"No Hairstyle\", \"Golden Earrings\", \"Jerry Hair\", \"Afro Beard\", \"Bootsy\",\n",
    "]\n",
    "hair_weights = [60, 20, 5, 10, 5,]\n",
    "\n",
    "mouth = [\n",
    "    \"No Mouth Decoration\", \"Gold Tooth\", \"Cigarette\", \"Bloody Fangs\", \"Goatie\",\n",
    "]\n",
    "mouth_weights = [40, 25, 15, 5, 15,]\n",
    "\n",
    "outfits = [\"No Outfit\", \"Xmen Uniform\", \"Bootsy\"]\n",
    "outfit_weights = [80, 10, 10]\n",
    "\n",
    "powers = [\"No Power\", \"LaserBeam\"]\n",
    "power_weights = [85, 15]"
   ]
  },
  {
   "cell_type": "markdown",
   "metadata": {},
   "source": [
    "<h5>Classifying the Traits</h5>\n",
    "<p>\n",
    "\n",
    "We refer to the <strong>values of the list of traits</strong> and link them to the filename of the layer inside a dictionary per category of traits\n",
    "\n",
    "\n",
    "</p>"
   ]
  },
  {
   "cell_type": "code",
   "execution_count": 3,
   "metadata": {},
   "outputs": [],
   "source": [
    "#Classifying the traits\n",
    "\n",
    "background_files = {\n",
    "    \"Rainbow Spiral\": \"1\",\n",
    "    \"African Rasta\": \"2\",\n",
    "    \"The Rabbit Hole\": \"3\",\n",
    "    \"Sunshine DayDream\": \"4\",\n",
    "    \"Black Tie Dye\": \"5\",\n",
    "    \"Pink Tie Dye\": \"6\",\n",
    "    \"Peace Out\": \"7\",\n",
    "    \"Trippy Carpet\": \"8\",\n",
    "    \"Bear Spiral\": \"9\",\n",
    "    \"Grateful Skull Tie Dye\": \"10\",\n",
    "    \"Scarlet Begonias\": \"11\",\n",
    "    \"Dark Rasta Bear Spiral\": \"12\",\n",
    "}\n",
    "\n",
    "bears_files = {\n",
    "    \"Green and Yellow\": \"1\",\n",
    "    \"Purple and Yellow\": \"2\",\n",
    "    \"Orange and Green\": \"3\",\n",
    "    \"Pink and Purple\": \"4\",\n",
    "    \"Yellow and Green\": \"5\",\n",
    "    \"Pink Tie Dye and White\": \"6\",\n",
    "    \"Blue and Yellow\": \"7\",\n",
    "    \"Pink Tie Dye and Gold\": \"8\",\n",
    "    \"Rasta Tie Dye\": \"9\",\n",
    "    \"Black Tie Dye and Purple\": \"10\",\n",
    "    \"Fully Black Tie Dye\": \"11\",\n",
    "}\n",
    "\n",
    "eyes_files = {\n",
    "    \"No Eye Decoration\": None,\n",
    "    \"Rayban\": \"5\",\n",
    "    \"Cyclops\": \"6\",\n",
    "    \"Bootsy\": \"bootsy\",\n",
    "    \"Groovy\": \"groovy\" ,\n",
    "}\n",
    "\n",
    "hair_files = {\n",
    "    \"No Hairstyle\": None,\n",
    "    \"Golden Earrings\": \"1\",\n",
    "    \"Jerry Hair\": \"jerry\", \n",
    "    \"Afro Beard\": \"afrobeard\",\n",
    "    \"Bootsy\": \"bootsy\",\n",
    "}\n",
    "\n",
    "\n",
    "mouth_files = {\n",
    "    \"No Mouth Decoration\": None,\n",
    "    \"Gold Tooth\": \"2\",\n",
    "    \"Cigarette\": \"3\",\n",
    "    \"Bloody Fangs\": \"bloodyfangs\",\n",
    "    \"Goatie\": \"goatie\",\n",
    "}\n",
    "\n",
    "outfits_files = {\n",
    "    \"No Outfit\": None,\n",
    "    \"Xmen Uniform\": \"xmen\",\n",
    "    \"Bootsy\": \"bootsy\",   \n",
    "}\n",
    "\n",
    "powers_files = {\n",
    "    \"No Power\": None,\n",
    "    \"LaserBeam\": \"1\",   \n",
    "}"
   ]
  },
  {
   "cell_type": "markdown",
   "metadata": {},
   "source": [
    "<h5>Putting together the traits</h5>\n",
    "\n",
    "<p>\n",
    "We first define the amount of images we wish to generate.\n",
    "<br>\n",
    "We create an empty dictionary where we will store all the possible image combinations\n",
    "<br>\n",
    "Then we will write a function that randomly puts together a trait combination based on the previously defined rarity weights and stores it in the empty dictionary after making sure the combination doesn't already exist in the dictionary.\n",
    "<br>\n",
    "Now we will create a loop in the range of Total Images we wanted to generate and create an image each time\n",
    "</p>"
   ]
  },
  {
   "cell_type": "code",
   "execution_count": 4,
   "metadata": {},
   "outputs": [],
   "source": [
    "\n",
    "\n",
    "TOTAL_IMAGES = 2500 # Number of random unique images we want to generate\n",
    "\n",
    "all_images = [] \n",
    "\n",
    "# A recursive function to generate unique image combinations\n",
    "def create_new_image():\n",
    "    # An empty dictionary to store each trait generated through the loop\n",
    "    new_image = {} \n",
    "\n",
    "\n",
    "    # For each trait category, select a random trait based on the weightings \n",
    "    new_image [\"Backgrounds\"] = random.choices(background, background_weights)[0]\n",
    "    new_image [\"Bears\"] = random.choices(bears, bears_weights)[0]\n",
    "    new_image [\"Eyes\"] = random.choices(eyes, eyes_weights)[0]\n",
    "    new_image [\"Hair\"] = random.choices(hair, hair_weights)[0]\n",
    "    new_image [\"Mouth\"] = random.choices(mouth, mouth_weights)[0]\n",
    "    new_image [\"Outfits\"] = random.choices(outfits, outfit_weights)[0]\n",
    "    new_image [\"Powers\"] = random.choices(powers, power_weights)[0]\n",
    "    \n",
    "    if new_image in all_images:\n",
    "        return create_new_image()\n",
    "    else:\n",
    "        return new_image\n",
    "    \n",
    "    \n",
    "# Generate the unique combinations based on rarity weights\n",
    "for i in range(TOTAL_IMAGES): \n",
    "    \n",
    "    new_trait_image = create_new_image()\n",
    "    \n",
    "    all_images.append(new_trait_image)"
   ]
  },
  {
   "cell_type": "markdown",
   "metadata": {},
   "source": [
    "<h5>Checking the uniqueness of each image combination</h5>\n",
    "\n",
    "<p>\n",
    "We write a function that loops through a list and compares it to another that is created in the function \n",
    "<br>\n",
    "We then add a token id to each image to be used as a filename to save the images\n",
    "</p>"
   ]
  },
  {
   "cell_type": "code",
   "execution_count": 7,
   "metadata": {},
   "outputs": [
    {
     "name": "stdout",
     "output_type": "stream",
     "text": [
      "Are all images unique? True\n"
     ]
    }
   ],
   "source": [
    "# Returns true if all images are unique\n",
    "def all_images_unique(all_images):\n",
    "    seen = list()\n",
    "    return not any(i in seen or seen.append(i) for i in all_images)\n",
    "\n",
    "print(\"Are all images unique?\", all_images_unique(all_images))\n",
    "\n",
    "\n",
    "# Add token Id to each image\n",
    "i = 0\n",
    "for item in all_images:\n",
    "    item[\"tokenId\"] = i\n",
    "    i = i + 1\n"
   ]
  },
  {
   "cell_type": "markdown",
   "metadata": {},
   "source": [
    "<h5>Counting the Traits</h5>\n",
    "<p>We loop through each list of rtaits and use it to count each time the image contains that specific trait</p>"
   ]
  },
  {
   "cell_type": "code",
   "execution_count": 8,
   "metadata": {},
   "outputs": [
    {
     "name": "stdout",
     "output_type": "stream",
     "text": [
      "{'Rainbow Spiral': 135, 'African Rasta': 350, 'The Rabbit Hole': 348, 'Sunshine DayDream': 322, 'Black Tie Dye': 160, 'Pink Tie Dye': 150, 'Peace Out': 348, 'Trippy Carpet': 141, 'Bear Spiral': 155, 'Grateful Skull Tie Dye': 130, 'Scarlet Begonias': 118, 'Dark Rasta Bear Spiral': 143}\n",
      "{'Green and Yellow': 332, 'Purple and Yellow': 308, 'Orange and Green': 299, 'Pink and Purple': 306, 'Yellow and Green': 335, 'Pink Tie Dye and White': 145, 'Blue and Yellow': 152, 'Pink Tie Dye and Gold': 178, 'Rasta Tie Dye': 152, 'Black Tie Dye and Purple': 147, 'Fully Black Tie Dye': 146}\n",
      "{'No Eye Decoration': 871, 'Rayban': 668, 'Cyclops': 163, 'Bootsy': 144, 'Groovy': 654}\n",
      "{'No Hairstyle': 1384, 'Golden Earrings': 553, 'Jerry Hair': 149, 'Afro Beard': 270, 'Bootsy': 144}\n",
      "{'No Mouth Decoration': 893, 'Gold Tooth': 619, 'Cigarette': 437, 'Bloody Fangs': 148, 'Goatie': 403}\n",
      "{'No Power': 2062, 'LaserBeam': 438}\n",
      "{'No Outfit': 1912, 'Xmen Uniform': 318, 'Bootsy': 270}\n"
     ]
    }
   ],
   "source": [
    "# Get Trait Counts\n",
    "\n",
    "background_count = {}\n",
    "for item in background:\n",
    "    background_count[item] = 0\n",
    "    \n",
    "bears_count = {}\n",
    "for item in bears:\n",
    "    bears_count[item] = 0\n",
    "\n",
    "eyes_count = {}\n",
    "for item in eyes:\n",
    "    eyes_count[item] = 0\n",
    "    \n",
    "hair_count = {}\n",
    "for item in hair:\n",
    "    hair_count[item] = 0\n",
    "    \n",
    "mouth_count = {}\n",
    "for item in mouth:\n",
    "    mouth_count[item] = 0\n",
    "    \n",
    "outfit_count = {}\n",
    "for item in outfits:\n",
    "    outfit_count[item] = 0\n",
    "\n",
    "power_count = {}\n",
    "for item in powers:\n",
    "    power_count[item] = 0\n",
    "\n",
    "for image in all_images:\n",
    "    background_count[image[\"Backgrounds\"]] += 1\n",
    "    bears_count[image[\"Bears\"]] += 1\n",
    "    eyes_count[image[\"Eyes\"]] += 1\n",
    "    hair_count[image[\"Hair\"]] += 1\n",
    "    mouth_count[image[\"Mouth\"]] += 1\n",
    "    power_count[image[\"Powers\"]] += 1\n",
    "    outfit_count[image[\"Outfits\"]] += 1\n",
    "    \n",
    "print(background_count)\n",
    "print(bears_count)\n",
    "print(eyes_count)\n",
    "print(hair_count)\n",
    "print(mouth_count)\n",
    "print(power_count)\n",
    "print(outfit_count)"
   ]
  },
  {
   "cell_type": "markdown",
   "metadata": {},
   "source": [
    "<h5>Generating the Images</h5>\n",
    "<p>\n",
    "By looping through the image list, we open each layer and stick it on top of the other. \n",
    "<br>\n",
    "Notice the order used when sticking layer on layer; the first mayer you open is the layer you want in the background"
   ]
  },
  {
   "cell_type": "code",
   "execution_count": 9,
   "metadata": {},
   "outputs": [],
   "source": [
    "#### Generate Images\n",
    "\n",
    "os.mkdir(f'./images')\n",
    "\n",
    "for item in all_images:\n",
    "    # Reqd eqch imqge using Pillow\n",
    "    image1 = Image.open(f'./assets/backgrounds/{background_files[item[\"Backgrounds\"]]}.png').convert('RGBA')\n",
    "    image2 = Image.open(f'./assets/bears/{bears_files[item[\"Bears\"]]}.png').convert('RGBA')\n",
    "    image3 = Image.open(f'./assets/hairstyles/{hair_files[item[\"Hair\"]]}.png').convert('RGBA')\n",
    "    image4 = Image.open(f'./assets/eyes/{eyes_files[item[\"Eyes\"]]}.png').convert('RGBA')\n",
    "    image5 = Image.open(f'./assets/mouths/{mouth_files[item[\"Mouth\"]]}.png').convert('RGBA')\n",
    "    image6 = Image.open(f'./assets/outfits/{outfits_files[item[\"Outfits\"]]}.png').convert('RGBA')\n",
    "    image7 = Image.open(f'./assets/powers/{powers_files[item[\"Powers\"]]}.png').convert('RGBA')\n",
    "\n",
    "    #Create each composition\n",
    "    comp1 = Image.alpha_composite(image1, image2)\n",
    "    comp2 = Image.alpha_composite(comp1, image3)\n",
    "    comp3 = Image.alpha_composite(comp2, image4)\n",
    "    comp4 = Image.alpha_composite(comp3, image5)\n",
    "    comp5 = Image.alpha_composite(comp4, image6)\n",
    "    comp6 = Image.alpha_composite(comp5, image7)\n",
    "\n",
    "                     \n",
    "\n",
    "    #Convert to RGB\n",
    "    rgb_im = comp6.convert('RGB')\n",
    "    file_name = str(item[\"tokenId\"]) + \".png\"\n",
    "    rgb_im.save(\"./images/\" + file_name)"
   ]
  },
  {
   "cell_type": "markdown",
   "metadata": {},
   "source": [
    "<h2>Generating MetaData</h5>"
   ]
  },
  {
   "cell_type": "markdown",
   "metadata": {},
   "source": [
    "<p>Here we will create the core of the NFT.\n",
    "<br>\n",
    "We will store the data as a .json file for each generated image and this will become the input of the NFT smart contract that we will deploy on the Ethereum Network.\n",
    "</p>\n",
    "<br>\n",
    "<h5>Uploading the Images</h5>\n",
    "<p>When hosting NFT images, the best practice is to only upload the link in the metadata to your file which is stored on an Interplanetary File System.\n",
    "<br>\n",
    "I have now uploaded my generated images to Piñata, a distributed file-sharing system that specializes in the hosting of NFT images. \n",
    "</p>\n",
    "<p>\n",
    "I created a project I call Dancing Bears on Acid and uploaded my ./images folder. After uploading you will see your folder, and a link to your project.\n",
    "<br>\n",
    "Mine is 'https://gateway.pinata.cloud/ipfs/QmRUEiWuV3YRweyE4e8zYMmifK54ZuVSwAE2XLfs95Jp47'\n",
    "<br>\n",
    "This link will become the BASE_URL that we will use later.\n",
    "</p>\n"
   ]
  },
  {
   "cell_type": "markdown",
   "metadata": {},
   "source": [
    "<h5>Dumping the MetaData</h5>\n",
    "\n",
    "<p>Now we will basically just dump the list \"all_images\" that carries all the traits of the generated images using the json.dump function"
   ]
  },
  {
   "cell_type": "code",
   "execution_count": 10,
   "metadata": {},
   "outputs": [],
   "source": [
    "# Create directory for metadata\n",
    "os.mkdir(f'./metadata')\n",
    "\n",
    "# Dump the metadata\n",
    "METADATA_FILE_NAME = './metadata/all-traits.json';\n",
    "with open(METADATA_FILE_NAME, 'w')as outfile:\n",
    "    json.dump(all_images, outfile, indent=4)"
   ]
  },
  {
   "cell_type": "markdown",
   "metadata": {},
   "source": [
    "<h5>Creating a json file for each NFT</h5>\n",
    "\n",
    "<p>\n",
    "Now we want to generate a json file for each corresponding image. We will load the 'all_traits.json' file and specify our 'BASE_URL', adding an additional '/' at the end to make the link work\n",
    "</p>\n"
   ]
  },
  {
   "cell_type": "code",
   "execution_count": 14,
   "metadata": {},
   "outputs": [],
   "source": [
    "# Loading the all_traits.json file\n",
    "f = open('./metadata/all-traits.json',) \n",
    "data = json.load(f)\n",
    "\n",
    "# Pointing to the project on Piñata\n",
    "IMAGES_BASE_URL = \"https://gateway.pinata.cloud/ipfs/QmRUEiWuV3YRweyE4e8zYMmifK54ZuVSwAE2XLfs95Jp47/\"\n",
    "PROJECT_NAME = \"DANCING_BEARS_ON_ACID\"\n",
    "\n",
    "# A function that returns the attributes\n",
    "def getAttribute(key,value):\n",
    "    return {\n",
    "        \"trait_type\": key,\n",
    "        \"value\": value,\n",
    "    }\n",
    "\n",
    "# Looping through the all-traits.json file\n",
    "for nft in data:\n",
    "    # Storing the id in a variable\n",
    "    token_id = nft['tokenId']\n",
    "    token = {\n",
    "        \"image\": IMAGES_BASE_URL + str(token_id) + '.png',\n",
    "        \"tokenId\": token_id,\n",
    "        \"name\": PROJECT_NAME + ' ' + str(token_id),\n",
    "        \"attributes\": []\n",
    "    }\n",
    "    token[\"attributes\"].append(getAttribute(\"Backgrounds\", nft[\"Backgrounds\"]))\n",
    "    token[\"attributes\"].append(getAttribute(\"Bears\", nft[\"Bears\"]))\n",
    "    token[\"attributes\"].append(getAttribute(\"Eyes\", nft[\"Eyes\"]))\n",
    "    token[\"attributes\"].append(getAttribute(\"Hair\", nft[\"Hair\"]))\n",
    "    token[\"attributes\"].append(getAttribute(\"Mouth\", nft[\"Mouth\"]))\n",
    "    token[\"attributes\"].append(getAttribute(\"Outfits\", nft[\"Outfits\"]))\n",
    "    token[\"attributes\"].append(getAttribute(\"Powers\", nft[\"Powers\"]))\n",
    "\n",
    "    with open('./metadata/' + str(token_id) + \".json\", 'w') as outfile:\n",
    "        json.dump(token, outfile, indent=4)\n",
    "\n",
    "#Closing our data file\n",
    "f.close()"
   ]
  },
  {
   "cell_type": "markdown",
   "metadata": {},
   "source": [
    "<h5>Uploading the MetaData</h5>\n",
    "<p>\n",
    "Now upload the .json files to Piñata the same way you uploaded the images\n",
    "</p>"
   ]
  }
 ],
 "metadata": {
  "interpreter": {
   "hash": "2d931fccb3ce6cc727dcc2040de0c5260a27f4b0b30c2521ae495cd77459bff7"
  },
  "kernelspec": {
   "display_name": "Python 3.7.9 64-bit ('aienv': venv)",
   "language": "python",
   "name": "python3"
  },
  "language_info": {
   "codemirror_mode": {
    "name": "ipython",
    "version": 3
   },
   "file_extension": ".py",
   "mimetype": "text/x-python",
   "name": "python",
   "nbconvert_exporter": "python",
   "pygments_lexer": "ipython3",
   "version": "3.7.9"
  },
  "orig_nbformat": 4
 },
 "nbformat": 4,
 "nbformat_minor": 2
}
